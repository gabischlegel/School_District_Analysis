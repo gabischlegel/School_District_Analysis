{
 "cells": [
  {
   "cell_type": "code",
   "execution_count": 1,
   "id": "45421194",
   "metadata": {},
   "outputs": [],
   "source": [
    "# Define the function \"say_hello\" so it prints \"Hello!\" when called.\n",
    "def say_hello():\n",
    "    print(\"Hello!\")"
   ]
  },
  {
   "cell_type": "code",
   "execution_count": 2,
   "id": "45eb5b4a",
   "metadata": {},
   "outputs": [
    {
     "name": "stdout",
     "output_type": "stream",
     "text": [
      "Hello!\n"
     ]
    }
   ],
   "source": [
    "# Call the function.\n",
    "say_hello()"
   ]
  },
  {
   "cell_type": "code",
   "execution_count": 3,
   "id": "eeea4eac",
   "metadata": {},
   "outputs": [],
   "source": [
    "# Define the function \"say_something\" so it prints whatever is passed as the variable when called.\n",
    "def say_something(something):\n",
    "    print(something)"
   ]
  },
  {
   "cell_type": "code",
   "execution_count": 4,
   "id": "a55bb73a",
   "metadata": {},
   "outputs": [
    {
     "name": "stdout",
     "output_type": "stream",
     "text": [
      "Hello World\n"
     ]
    }
   ],
   "source": [
    "# Call the function.\n",
    "say_something(\"Hello World\")"
   ]
  },
  {
   "cell_type": "code",
   "execution_count": 5,
   "id": "bca35df5",
   "metadata": {},
   "outputs": [
    {
     "name": "stdout",
     "output_type": "stream",
     "text": [
      "Hi, my name is Jane. I'm learning Python!\n"
     ]
    }
   ],
   "source": [
    "Jane_says = \"Hi, my name is Jane. I'm learning Python!\"\n",
    "say_something(Jane_says)"
   ]
  },
  {
   "cell_type": "code",
   "execution_count": 6,
   "id": "9b43f01e",
   "metadata": {},
   "outputs": [
    {
     "name": "stdout",
     "output_type": "stream",
     "text": [
      "Hi, my name is Jane. I'm learning Python!\n"
     ]
    }
   ],
   "source": [
    "print(Jane_says)"
   ]
  },
  {
   "cell_type": "code",
   "execution_count": 7,
   "id": "06947295",
   "metadata": {},
   "outputs": [],
   "source": [
    "# A list of my grades.\n",
    "my_grades = ['B', 'C', 'B' , 'D']"
   ]
  },
  {
   "cell_type": "code",
   "execution_count": 8,
   "id": "44a81042",
   "metadata": {},
   "outputs": [
    {
     "data": {
      "text/plain": [
       "0    B\n",
       "1    C\n",
       "2    B\n",
       "3    D\n",
       "dtype: object"
      ]
     },
     "execution_count": 8,
     "metadata": {},
     "output_type": "execute_result"
    }
   ],
   "source": [
    "# Import pandas.\n",
    "import pandas as pd\n",
    "# Convert the my_grades to a Series\n",
    "my_grades = pd.Series(my_grades)\n",
    "my_grades"
   ]
  },
  {
   "cell_type": "code",
   "execution_count": 9,
   "id": "bfd0001c",
   "metadata": {},
   "outputs": [
    {
     "ename": "SyntaxError",
     "evalue": "invalid syntax (3787769653.py, line 1)",
     "output_type": "error",
     "traceback": [
      "\u001b[1;36m  Input \u001b[1;32mIn [9]\u001b[1;36m\u001b[0m\n\u001b[1;33m    map(\"current_value_1\" : \"new_value_1\",  \"current_value_2\" : \"new_value_2\", etc)\u001b[0m\n\u001b[1;37m                          ^\u001b[0m\n\u001b[1;31mSyntaxError\u001b[0m\u001b[1;31m:\u001b[0m invalid syntax\n"
     ]
    }
   ],
   "source": [
    "map(\"current_value_1\" : \"new_value_1\",  \"current_value_2\" : \"new_value_2\", etc)"
   ]
  },
  {
   "cell_type": "code",
   "execution_count": 10,
   "id": "33f45c66",
   "metadata": {},
   "outputs": [
    {
     "data": {
      "text/plain": [
       "0    A\n",
       "1    B\n",
       "2    A\n",
       "3    C\n",
       "dtype: object"
      ]
     },
     "execution_count": 10,
     "metadata": {},
     "output_type": "execute_result"
    }
   ],
   "source": [
    "# Change the grades by one letter grade.\n",
    "my_grades.map({'B': 'A', 'C': 'B', 'D': 'C'})"
   ]
  },
  {
   "cell_type": "code",
   "execution_count": 11,
   "id": "a14b37f2",
   "metadata": {},
   "outputs": [
    {
     "name": "stdout",
     "output_type": "stream",
     "text": [
      "92\n",
      "85\n",
      "87\n",
      "98\n"
     ]
    }
   ],
   "source": [
    "# Using the format() function.\n",
    "my_grades = [92.34, 84.56, 86.78, 98.32]\n",
    "\n",
    "for grade in my_grades:\n",
    "    print(\"{:.0f}\".format(grade))"
   ]
  },
  {
   "cell_type": "code",
   "execution_count": 12,
   "id": "96044095",
   "metadata": {},
   "outputs": [
    {
     "data": {
      "text/plain": [
       "0    92.34\n",
       "1    84.56\n",
       "2    86.78\n",
       "3    78.32\n",
       "dtype: float64"
      ]
     },
     "execution_count": 12,
     "metadata": {},
     "output_type": "execute_result"
    }
   ],
   "source": [
    "# Convert the numerical grades to a Series.\n",
    "my_grades = pd.Series([92.34, 84.56, 86.78, 78.32])\n",
    "my_grades"
   ]
  },
  {
   "cell_type": "code",
   "execution_count": 13,
   "id": "df717ef8",
   "metadata": {},
   "outputs": [
    {
     "data": {
      "text/plain": [
       "0    92\n",
       "1    85\n",
       "2    87\n",
       "3    78\n",
       "dtype: object"
      ]
     },
     "execution_count": 13,
     "metadata": {},
     "output_type": "execute_result"
    }
   ],
   "source": [
    "# Format the grades to the nearest whole number percent.\n",
    "my_grades.map(\"{:.0f}\".format)"
   ]
  },
  {
   "cell_type": "code",
   "execution_count": null,
   "id": "e6866f94",
   "metadata": {},
   "outputs": [],
   "source": []
  }
 ],
 "metadata": {
  "kernelspec": {
   "display_name": "Python 3 (ipykernel)",
   "language": "python",
   "name": "python3"
  },
  "language_info": {
   "codemirror_mode": {
    "name": "ipython",
    "version": 3
   },
   "file_extension": ".py",
   "mimetype": "text/x-python",
   "name": "python",
   "nbconvert_exporter": "python",
   "pygments_lexer": "ipython3",
   "version": "3.9.12"
  }
 },
 "nbformat": 4,
 "nbformat_minor": 5
}
